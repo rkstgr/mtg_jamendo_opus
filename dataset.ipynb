{
 "cells": [
  {
   "cell_type": "code",
   "execution_count": 9,
   "outputs": [],
   "source": [
    "import pandas as pd\n",
    "\n",
    "from createDataset import load_tracks\n",
    "from dataclasses import asdict"
   ],
   "metadata": {
    "collapsed": false,
    "pycharm": {
     "name": "#%%\n"
    }
   }
  },
  {
   "cell_type": "code",
   "execution_count": null,
   "outputs": [],
   "source": [
    "tracks = load_tracks()"
   ],
   "metadata": {
    "collapsed": false,
    "pycharm": {
     "name": "#%%\n"
    }
   }
  },
  {
   "cell_type": "code",
   "execution_count": 10,
   "outputs": [
    {
     "data": {
      "text/plain": "            id  artist_id  album_id  durationInSec  \\\n0      1142857     429523    137046           40.5   \n1       973747     375104    114654           43.7   \n2       973751     375104    114654           46.7   \n3       973752     375104    114654          125.0   \n4       973753     375104    114654          152.7   \n...        ...        ...       ...            ...   \n55696  1088053     375935    129718          140.0   \n55697  1137237     439567    136587          192.7   \n55698  1124726     432273    134534          128.6   \n55699   918148     375935    108714          165.1   \n55700  1217364     438431    146039          293.0   \n\n                                  genres  \\\n0                                     []   \n1                                     []   \n2                                     []   \n3                                     []   \n4                                     []   \n...                                  ...   \n55696                [ethnicrock, world]   \n55697                            [world]   \n55698            [world, jungle, tribal]   \n55699       [ethnicrock, african, world]   \n55700  [worldfusion, oriental, flamenco]   \n\n                                             instruments  \\\n0                                                     []   \n1                                                     []   \n2                                                     []   \n3                                                     []   \n4                                                     []   \n...                                                  ...   \n55696                             [violin, tabla, sitar]   \n55697                                     [voice, flute]   \n55698  [tambourine, pandeiro, glockenspiel, vibraphon...   \n55699                              [bongo, conga, voice]   \n55700                                                 []   \n\n                              moods  gdrive_nr  \\\n0         [game, holiday, children]         57   \n1                       [christmas]         47   \n2                       [christmas]         51   \n3                       [christmas]         52   \n4                       [christmas]         53   \n...                             ...        ...   \n55696  [travel, documentary, india]         53   \n55697                            []         37   \n55698  [videogame, children, funny]         26   \n55699              [travel, brazil]         48   \n55700                            []         64   \n\n                               gdrive_id  gdrive_size_in_gb   main_genre  \\\n0      16IC_mRlaYGClWtK0xTgVcDacZGiUh6J4                5.6                \n1      1YqfP6cNHWfTJ5qOS9VpMIbKYM9bMRUk5                5.5                \n2      1qbPA5xI8dd-5Jmo8YLL-uxQPChp_GNb8                5.8                \n3      1zOi_taXSNa6pcZ-4dKDaLLAc6957C5UT                5.5                \n4      1B3hd095S2Kw8ZYSjk7kp9UJMvLgChWKz                5.5                \n...                                  ...                ...          ...   \n55696  1B3hd095S2Kw8ZYSjk7kp9UJMvLgChWKz                5.5        world   \n55697  1Na9vgTCUvrF3Bg8h4FrYs4jRzAFuCigB                5.3        world   \n55698  19REUDBP2N-C0Dy5TGdqlPGNsC63zYEIR                5.2        world   \n55699  1Xuc_K5DwrOsHQbB-LDUwUExcGNMpJu2f                5.6        world   \n55700  1Vj9ZiyvBWN9xxWxxRpSBSSr4ms3cuapo                5.6  worldfusion   \n\n      main_instrument    main_mood  chunk_nr  \\\n0                         children         0   \n1                        christmas         0   \n2                        christmas         0   \n3                        christmas         0   \n4                        christmas         0   \n...               ...          ...       ...   \n55696          violin  documentary       239   \n55697           voice                    239   \n55698           voice     children       239   \n55699           voice       travel       239   \n55700                                    239   \n\n                                              mp3_sha256  \n0      e0ce88bf52ca1e80f18fa2df852dd9bd445285bd331a82...  \n1      a3515d5e3542fdfa5dc4d08a6624ce0717c431dfb1603b...  \n2      17ecae99bde9dcc1528fded29b54e4de013c126d89a969...  \n3      502d1091563399c7676b8e2108fe9ecf7cf1de52a788fe...  \n4      96d2e7c4319382278d5455389495324d244cba8636cd65...  \n...                                                  ...  \n55696  19307e73afaacdfd56c4dac6fe9ab511cb801655b5bf98...  \n55697  34bd631e8996945a19ae481b2841239a506d4aef8ac584...  \n55698  5e2bc1d5129dbf38b59ba3baf0527c041408d679ce22ba...  \n55699  d4dbd73ff140051cc411a6a4d0cd00a62b41df5b6a7e7d...  \n55700  f21ba13e72e31dd3bfd44def2775735c9eafb84c797300...  \n\n[55701 rows x 15 columns]",
      "text/html": "<div>\n<style scoped>\n    .dataframe tbody tr th:only-of-type {\n        vertical-align: middle;\n    }\n\n    .dataframe tbody tr th {\n        vertical-align: top;\n    }\n\n    .dataframe thead th {\n        text-align: right;\n    }\n</style>\n<table border=\"1\" class=\"dataframe\">\n  <thead>\n    <tr style=\"text-align: right;\">\n      <th></th>\n      <th>id</th>\n      <th>artist_id</th>\n      <th>album_id</th>\n      <th>durationInSec</th>\n      <th>genres</th>\n      <th>instruments</th>\n      <th>moods</th>\n      <th>gdrive_nr</th>\n      <th>gdrive_id</th>\n      <th>gdrive_size_in_gb</th>\n      <th>main_genre</th>\n      <th>main_instrument</th>\n      <th>main_mood</th>\n      <th>chunk_nr</th>\n      <th>mp3_sha256</th>\n    </tr>\n  </thead>\n  <tbody>\n    <tr>\n      <th>0</th>\n      <td>1142857</td>\n      <td>429523</td>\n      <td>137046</td>\n      <td>40.5</td>\n      <td>[]</td>\n      <td>[]</td>\n      <td>[game, holiday, children]</td>\n      <td>57</td>\n      <td>16IC_mRlaYGClWtK0xTgVcDacZGiUh6J4</td>\n      <td>5.6</td>\n      <td></td>\n      <td></td>\n      <td>children</td>\n      <td>0</td>\n      <td>e0ce88bf52ca1e80f18fa2df852dd9bd445285bd331a82...</td>\n    </tr>\n    <tr>\n      <th>1</th>\n      <td>973747</td>\n      <td>375104</td>\n      <td>114654</td>\n      <td>43.7</td>\n      <td>[]</td>\n      <td>[]</td>\n      <td>[christmas]</td>\n      <td>47</td>\n      <td>1YqfP6cNHWfTJ5qOS9VpMIbKYM9bMRUk5</td>\n      <td>5.5</td>\n      <td></td>\n      <td></td>\n      <td>christmas</td>\n      <td>0</td>\n      <td>a3515d5e3542fdfa5dc4d08a6624ce0717c431dfb1603b...</td>\n    </tr>\n    <tr>\n      <th>2</th>\n      <td>973751</td>\n      <td>375104</td>\n      <td>114654</td>\n      <td>46.7</td>\n      <td>[]</td>\n      <td>[]</td>\n      <td>[christmas]</td>\n      <td>51</td>\n      <td>1qbPA5xI8dd-5Jmo8YLL-uxQPChp_GNb8</td>\n      <td>5.8</td>\n      <td></td>\n      <td></td>\n      <td>christmas</td>\n      <td>0</td>\n      <td>17ecae99bde9dcc1528fded29b54e4de013c126d89a969...</td>\n    </tr>\n    <tr>\n      <th>3</th>\n      <td>973752</td>\n      <td>375104</td>\n      <td>114654</td>\n      <td>125.0</td>\n      <td>[]</td>\n      <td>[]</td>\n      <td>[christmas]</td>\n      <td>52</td>\n      <td>1zOi_taXSNa6pcZ-4dKDaLLAc6957C5UT</td>\n      <td>5.5</td>\n      <td></td>\n      <td></td>\n      <td>christmas</td>\n      <td>0</td>\n      <td>502d1091563399c7676b8e2108fe9ecf7cf1de52a788fe...</td>\n    </tr>\n    <tr>\n      <th>4</th>\n      <td>973753</td>\n      <td>375104</td>\n      <td>114654</td>\n      <td>152.7</td>\n      <td>[]</td>\n      <td>[]</td>\n      <td>[christmas]</td>\n      <td>53</td>\n      <td>1B3hd095S2Kw8ZYSjk7kp9UJMvLgChWKz</td>\n      <td>5.5</td>\n      <td></td>\n      <td></td>\n      <td>christmas</td>\n      <td>0</td>\n      <td>96d2e7c4319382278d5455389495324d244cba8636cd65...</td>\n    </tr>\n    <tr>\n      <th>...</th>\n      <td>...</td>\n      <td>...</td>\n      <td>...</td>\n      <td>...</td>\n      <td>...</td>\n      <td>...</td>\n      <td>...</td>\n      <td>...</td>\n      <td>...</td>\n      <td>...</td>\n      <td>...</td>\n      <td>...</td>\n      <td>...</td>\n      <td>...</td>\n      <td>...</td>\n    </tr>\n    <tr>\n      <th>55696</th>\n      <td>1088053</td>\n      <td>375935</td>\n      <td>129718</td>\n      <td>140.0</td>\n      <td>[ethnicrock, world]</td>\n      <td>[violin, tabla, sitar]</td>\n      <td>[travel, documentary, india]</td>\n      <td>53</td>\n      <td>1B3hd095S2Kw8ZYSjk7kp9UJMvLgChWKz</td>\n      <td>5.5</td>\n      <td>world</td>\n      <td>violin</td>\n      <td>documentary</td>\n      <td>239</td>\n      <td>19307e73afaacdfd56c4dac6fe9ab511cb801655b5bf98...</td>\n    </tr>\n    <tr>\n      <th>55697</th>\n      <td>1137237</td>\n      <td>439567</td>\n      <td>136587</td>\n      <td>192.7</td>\n      <td>[world]</td>\n      <td>[voice, flute]</td>\n      <td>[]</td>\n      <td>37</td>\n      <td>1Na9vgTCUvrF3Bg8h4FrYs4jRzAFuCigB</td>\n      <td>5.3</td>\n      <td>world</td>\n      <td>voice</td>\n      <td></td>\n      <td>239</td>\n      <td>34bd631e8996945a19ae481b2841239a506d4aef8ac584...</td>\n    </tr>\n    <tr>\n      <th>55698</th>\n      <td>1124726</td>\n      <td>432273</td>\n      <td>134534</td>\n      <td>128.6</td>\n      <td>[world, jungle, tribal]</td>\n      <td>[tambourine, pandeiro, glockenspiel, vibraphon...</td>\n      <td>[videogame, children, funny]</td>\n      <td>26</td>\n      <td>19REUDBP2N-C0Dy5TGdqlPGNsC63zYEIR</td>\n      <td>5.2</td>\n      <td>world</td>\n      <td>voice</td>\n      <td>children</td>\n      <td>239</td>\n      <td>5e2bc1d5129dbf38b59ba3baf0527c041408d679ce22ba...</td>\n    </tr>\n    <tr>\n      <th>55699</th>\n      <td>918148</td>\n      <td>375935</td>\n      <td>108714</td>\n      <td>165.1</td>\n      <td>[ethnicrock, african, world]</td>\n      <td>[bongo, conga, voice]</td>\n      <td>[travel, brazil]</td>\n      <td>48</td>\n      <td>1Xuc_K5DwrOsHQbB-LDUwUExcGNMpJu2f</td>\n      <td>5.6</td>\n      <td>world</td>\n      <td>voice</td>\n      <td>travel</td>\n      <td>239</td>\n      <td>d4dbd73ff140051cc411a6a4d0cd00a62b41df5b6a7e7d...</td>\n    </tr>\n    <tr>\n      <th>55700</th>\n      <td>1217364</td>\n      <td>438431</td>\n      <td>146039</td>\n      <td>293.0</td>\n      <td>[worldfusion, oriental, flamenco]</td>\n      <td>[]</td>\n      <td>[]</td>\n      <td>64</td>\n      <td>1Vj9ZiyvBWN9xxWxxRpSBSSr4ms3cuapo</td>\n      <td>5.6</td>\n      <td>worldfusion</td>\n      <td></td>\n      <td></td>\n      <td>239</td>\n      <td>f21ba13e72e31dd3bfd44def2775735c9eafb84c797300...</td>\n    </tr>\n  </tbody>\n</table>\n<p>55701 rows × 15 columns</p>\n</div>"
     },
     "execution_count": 10,
     "metadata": {},
     "output_type": "execute_result"
    }
   ],
   "source": [
    "df = pd.DataFrame.from_records([asdict(x) for x in tracks])\n",
    "df"
   ],
   "metadata": {
    "collapsed": false,
    "pycharm": {
     "name": "#%%\n"
    }
   }
  },
  {
   "cell_type": "code",
   "execution_count": 11,
   "outputs": [],
   "source": [
    "import numpy as np\n",
    "\n",
    "val_ration = 0.1\n",
    "df[\"split\"] = [\"val\" if x else \"train\" for x in np.random.rand(len(df)) < val_ration]"
   ],
   "metadata": {
    "collapsed": false,
    "pycharm": {
     "name": "#%%\n"
    }
   }
  },
  {
   "cell_type": "code",
   "execution_count": 13,
   "outputs": [
    {
     "data": {
      "text/plain": "train    49982\nval       5719\nName: split, dtype: int64"
     },
     "execution_count": 13,
     "metadata": {},
     "output_type": "execute_result"
    }
   ],
   "source": [
    "df[\"split\"].value_counts()"
   ],
   "metadata": {
    "collapsed": false,
    "pycharm": {
     "name": "#%%\n"
    }
   }
  },
  {
   "cell_type": "code",
   "execution_count": 21,
   "outputs": [
    {
     "data": {
      "text/plain": "                     id         durationInSec           val_ratio val_duration\nsplit             train     val         train       val                       \ngenres                                                                        \nelectronic      14648.0  1678.0     3941082.3  442683.6  0.102781     0.100982\nsoundtrack       7108.0   838.0     1471447.6  175012.1  0.105462     0.106296\npop              6986.0   819.0     1555686.0  180176.2  0.104933     0.103796\nambient          6680.0   787.0     1971768.5  218944.2  0.105397     0.099942\nrock             6130.0   735.0     1419177.5  171545.9  0.107065     0.107841\n...                 ...     ...           ...       ...       ...          ...\nabstracthiphop      7.0     NaN        1753.8       NaN       NaN          NaN\nemocore             5.0     NaN        1365.0       NaN       NaN          NaN\nchristianrap        4.0     NaN         728.7       NaN       NaN          NaN\ndroneambient        2.0     1.0         551.1     351.6  0.333333     0.389498\ndeutschrock         1.0     NaN         249.9       NaN       NaN          NaN\n\n[252 rows x 6 columns]",
      "text/html": "<div>\n<style scoped>\n    .dataframe tbody tr th:only-of-type {\n        vertical-align: middle;\n    }\n\n    .dataframe tbody tr th {\n        vertical-align: top;\n    }\n\n    .dataframe thead tr th {\n        text-align: left;\n    }\n\n    .dataframe thead tr:last-of-type th {\n        text-align: right;\n    }\n</style>\n<table border=\"1\" class=\"dataframe\">\n  <thead>\n    <tr>\n      <th></th>\n      <th colspan=\"2\" halign=\"left\">id</th>\n      <th colspan=\"2\" halign=\"left\">durationInSec</th>\n      <th>val_ratio</th>\n      <th>val_duration</th>\n    </tr>\n    <tr>\n      <th>split</th>\n      <th>train</th>\n      <th>val</th>\n      <th>train</th>\n      <th>val</th>\n      <th></th>\n      <th></th>\n    </tr>\n    <tr>\n      <th>genres</th>\n      <th></th>\n      <th></th>\n      <th></th>\n      <th></th>\n      <th></th>\n      <th></th>\n    </tr>\n  </thead>\n  <tbody>\n    <tr>\n      <th>electronic</th>\n      <td>14648.0</td>\n      <td>1678.0</td>\n      <td>3941082.3</td>\n      <td>442683.6</td>\n      <td>0.102781</td>\n      <td>0.100982</td>\n    </tr>\n    <tr>\n      <th>soundtrack</th>\n      <td>7108.0</td>\n      <td>838.0</td>\n      <td>1471447.6</td>\n      <td>175012.1</td>\n      <td>0.105462</td>\n      <td>0.106296</td>\n    </tr>\n    <tr>\n      <th>pop</th>\n      <td>6986.0</td>\n      <td>819.0</td>\n      <td>1555686.0</td>\n      <td>180176.2</td>\n      <td>0.104933</td>\n      <td>0.103796</td>\n    </tr>\n    <tr>\n      <th>ambient</th>\n      <td>6680.0</td>\n      <td>787.0</td>\n      <td>1971768.5</td>\n      <td>218944.2</td>\n      <td>0.105397</td>\n      <td>0.099942</td>\n    </tr>\n    <tr>\n      <th>rock</th>\n      <td>6130.0</td>\n      <td>735.0</td>\n      <td>1419177.5</td>\n      <td>171545.9</td>\n      <td>0.107065</td>\n      <td>0.107841</td>\n    </tr>\n    <tr>\n      <th>...</th>\n      <td>...</td>\n      <td>...</td>\n      <td>...</td>\n      <td>...</td>\n      <td>...</td>\n      <td>...</td>\n    </tr>\n    <tr>\n      <th>abstracthiphop</th>\n      <td>7.0</td>\n      <td>NaN</td>\n      <td>1753.8</td>\n      <td>NaN</td>\n      <td>NaN</td>\n      <td>NaN</td>\n    </tr>\n    <tr>\n      <th>emocore</th>\n      <td>5.0</td>\n      <td>NaN</td>\n      <td>1365.0</td>\n      <td>NaN</td>\n      <td>NaN</td>\n      <td>NaN</td>\n    </tr>\n    <tr>\n      <th>christianrap</th>\n      <td>4.0</td>\n      <td>NaN</td>\n      <td>728.7</td>\n      <td>NaN</td>\n      <td>NaN</td>\n      <td>NaN</td>\n    </tr>\n    <tr>\n      <th>droneambient</th>\n      <td>2.0</td>\n      <td>1.0</td>\n      <td>551.1</td>\n      <td>351.6</td>\n      <td>0.333333</td>\n      <td>0.389498</td>\n    </tr>\n    <tr>\n      <th>deutschrock</th>\n      <td>1.0</td>\n      <td>NaN</td>\n      <td>249.9</td>\n      <td>NaN</td>\n      <td>NaN</td>\n      <td>NaN</td>\n    </tr>\n  </tbody>\n</table>\n<p>252 rows × 6 columns</p>\n</div>"
     },
     "execution_count": 21,
     "metadata": {},
     "output_type": "execute_result"
    }
   ],
   "source": [
    "t = df.explode(\"genres\").groupby([\"split\", \"genres\"]).agg({\"id\": \"count\", \"durationInSec\": \"sum\"}).unstack(\"split\").sort_values((\"id\", \"train\"), ascending=0)\n",
    "t[\"val_ratio\"] = t[(\"id\", \"val\")] / (t[(\"id\", \"val\")]+t[(\"id\", \"train\")])\n",
    "t[\"val_duration\"] = t[(\"durationInSec\", \"val\")] / (t[(\"durationInSec\", \"val\")] + t[(\"durationInSec\", \"train\")])\n",
    "t"
   ],
   "metadata": {
    "collapsed": false,
    "pycharm": {
     "name": "#%%\n"
    }
   }
  },
  {
   "cell_type": "code",
   "execution_count": 23,
   "outputs": [],
   "source": [
    "df.to_parquet(\"tracks.parquet\")"
   ],
   "metadata": {
    "collapsed": false,
    "pycharm": {
     "name": "#%%\n"
    }
   }
  },
  {
   "cell_type": "code",
   "execution_count": null,
   "outputs": [],
   "source": [],
   "metadata": {
    "collapsed": false,
    "pycharm": {
     "name": "#%%\n"
    }
   }
  }
 ],
 "metadata": {
  "kernelspec": {
   "display_name": "Python 3",
   "language": "python",
   "name": "python3"
  },
  "language_info": {
   "codemirror_mode": {
    "name": "ipython",
    "version": 2
   },
   "file_extension": ".py",
   "mimetype": "text/x-python",
   "name": "python",
   "nbconvert_exporter": "python",
   "pygments_lexer": "ipython2",
   "version": "2.7.6"
  }
 },
 "nbformat": 4,
 "nbformat_minor": 0
}